{
 "cells": [
  {
   "cell_type": "code",
   "execution_count": 5,
   "id": "5aad7f7d",
   "metadata": {
    "ExecuteTime": {
     "end_time": "2023-10-23T02:48:35.066205Z",
     "start_time": "2023-10-23T02:48:35.063490Z"
    }
   },
   "outputs": [],
   "source": [
    "import numpy as np\n",
    "import jax.numpy as jnp\n",
    "\n",
    "from ipywidgets import HBox, VBox, Output\n",
    "from utils import Plotter, Dataset, make_dataset"
   ]
  },
  {
   "cell_type": "code",
   "execution_count": 22,
   "id": "762e57bb",
   "metadata": {
    "ExecuteTime": {
     "end_time": "2023-10-23T02:53:23.435057Z",
     "start_time": "2023-10-23T02:53:23.429821Z"
    }
   },
   "outputs": [],
   "source": [
    "def format_buttons(plotter):\n",
    "    display(VBox(plotter.register_title_cards()))\n",
    "\n",
    "    display(HBox(plotter.register_batch_size_buttons()))\n",
    "    print('Parameters')\n",
    "    display(HBox([\n",
    "        VBox(list(plotter.register_parameters())),\n",
    "        VBox([plotter.register_parameter_freezer()])\n",
    "    ]))\n",
    "\n",
    "\n",
    "def choice(v):\n",
    "    assert v > 0\n",
    "    assert v <= 2\n",
    "\n",
    "    param_range = np.arange(-v, v+0.25, 0.25)\n",
    "    return np.random.choice(param_range)\n",
    "\n",
    "def l2_loss(params, forward, x, y):\n",
    "    err = forward(params, x) - y\n",
    "    return jnp.mean(jnp.square(err))"
   ]
  },
  {
   "cell_type": "markdown",
   "id": "c921ef42",
   "metadata": {},
   "source": [
    "y $\\approx$ w * x"
   ]
  },
  {
   "cell_type": "code",
   "execution_count": 26,
   "id": "c1ced314",
   "metadata": {
    "ExecuteTime": {
     "end_time": "2023-10-23T02:55:58.939884Z",
     "start_time": "2023-10-23T02:55:58.774990Z"
    }
   },
   "outputs": [
    {
     "data": {
      "application/vnd.jupyter.widget-view+json": {
       "model_id": "a372ac3a65fd42ae9f790e5da7728ae3",
       "version_major": 2,
       "version_minor": 0
      },
      "text/plain": [
       "VBox(children=(Dropdown(description='Plot:', options=('Full dataset', 'Subsampled dataset', 'Ground truth'), v…"
      ]
     },
     "metadata": {},
     "output_type": "display_data"
    },
    {
     "data": {
      "application/vnd.jupyter.widget-view+json": {
       "model_id": "556d75f231a3452d98a6564c1da2e1f4",
       "version_major": 2,
       "version_minor": 0
      },
      "text/plain": [
       "HBox(children=(Button(description='Resample', style=ButtonStyle()), IntSlider(value=5, description='Batch size…"
      ]
     },
     "metadata": {},
     "output_type": "display_data"
    },
    {
     "name": "stdout",
     "output_type": "stream",
     "text": [
      "Parameters\n"
     ]
    },
    {
     "data": {
      "application/vnd.jupyter.widget-view+json": {
       "model_id": "cfad0c7927294052921626ac2579a5d6",
       "version_major": 2,
       "version_minor": 0
      },
      "text/plain": [
       "HBox(children=(VBox(children=(FloatSlider(value=0.0, description='w', max=2.0, min=-2.0, step=0.25),)), VBox(c…"
      ]
     },
     "metadata": {},
     "output_type": "display_data"
    },
    {
     "data": {
      "application/vnd.jupyter.widget-view+json": {
       "model_id": "27879c7b66eb47a59489b290bc70ecee",
       "version_major": 2,
       "version_minor": 0
      },
      "text/plain": [
       "Output()"
      ]
     },
     "execution_count": 26,
     "metadata": {},
     "output_type": "execute_result"
    }
   ],
   "source": [
    "gtparams = {\n",
    "    'w': choice(2)\n",
    "}\n",
    "\n",
    "def linear_model(params, x):\n",
    "    return x * params['w'] + params.get('b', 0)\n",
    "\n",
    "dataset = make_dataset(gtparams, linear_model)\n",
    "params = {k: 0.0 for k, v in gtparams.items()}\n",
    "\n",
    "plotter = Plotter(params, linear_model, l2_loss, dataset, Output())\n",
    "\n",
    "format_buttons(plotter)\n",
    "plotter.display()\n",
    "plotter.output"
   ]
  },
  {
   "cell_type": "code",
   "execution_count": 20,
   "id": "61cbb60f",
   "metadata": {
    "ExecuteTime": {
     "end_time": "2023-10-23T02:53:08.282029Z",
     "start_time": "2023-10-23T02:53:08.113988Z"
    }
   },
   "outputs": [
    {
     "data": {
      "application/vnd.jupyter.widget-view+json": {
       "model_id": "e178ce1efd254d04955718d68ee46e8c",
       "version_major": 2,
       "version_minor": 0
      },
      "text/plain": [
       "VBox(children=(Dropdown(description='Plot:', options=('Full dataset', 'Subsampled dataset', 'Ground truth'), v…"
      ]
     },
     "metadata": {},
     "output_type": "display_data"
    },
    {
     "data": {
      "application/vnd.jupyter.widget-view+json": {
       "model_id": "a2ac7013fc9240dba4f429fa6344d607",
       "version_major": 2,
       "version_minor": 0
      },
      "text/plain": [
       "HBox(children=(Button(description='Resample', style=ButtonStyle()), IntSlider(value=5, description='Batch size…"
      ]
     },
     "metadata": {},
     "output_type": "display_data"
    },
    {
     "name": "stdout",
     "output_type": "stream",
     "text": [
      "Parameters\n"
     ]
    },
    {
     "data": {
      "application/vnd.jupyter.widget-view+json": {
       "model_id": "f25b32297f9f40919917a7d94b00d689",
       "version_major": 2,
       "version_minor": 0
      },
      "text/plain": [
       "HBox(children=(VBox(children=(FloatSlider(value=0.0, description='w', max=2.0, min=-2.0, step=0.25), FloatSlid…"
      ]
     },
     "metadata": {},
     "output_type": "display_data"
    },
    {
     "data": {
      "application/vnd.jupyter.widget-view+json": {
       "model_id": "fd23f6b8a3014da288fc385bff8254d3",
       "version_major": 2,
       "version_minor": 0
      },
      "text/plain": [
       "Output()"
      ]
     },
     "execution_count": 20,
     "metadata": {},
     "output_type": "execute_result"
    }
   ],
   "source": [
    "params = {\n",
    "    'w': choice(2), 'b': choice(2)\n",
    "}\n",
    "\n",
    "dataset = make_dataset(params, linear_model)\n",
    "params = {k: 0.0 for k, v in params.items()}\n",
    "\n",
    "plotter = Plotter(params, linear_model, l2_loss, dataset, Output())\n",
    "\n",
    "format_buttons(plotter)\n",
    "plotter.display()\n",
    "plotter.output"
   ]
  },
  {
   "cell_type": "code",
   "execution_count": 28,
   "id": "136ceaaa",
   "metadata": {
    "ExecuteTime": {
     "end_time": "2023-10-23T03:00:27.388986Z",
     "start_time": "2023-10-23T03:00:27.201938Z"
    }
   },
   "outputs": [
    {
     "data": {
      "application/vnd.jupyter.widget-view+json": {
       "model_id": "f6c5f28c97f04bbdb4b0a1762d93126c",
       "version_major": 2,
       "version_minor": 0
      },
      "text/plain": [
       "VBox(children=(Dropdown(description='Plot:', options=('Full dataset', 'Subsampled dataset', 'Ground truth'), v…"
      ]
     },
     "metadata": {},
     "output_type": "display_data"
    },
    {
     "data": {
      "application/vnd.jupyter.widget-view+json": {
       "model_id": "9fa7a99b967c46cb9238e7f07e87853d",
       "version_major": 2,
       "version_minor": 0
      },
      "text/plain": [
       "HBox(children=(Button(description='Resample', style=ButtonStyle()), IntSlider(value=5, description='Batch size…"
      ]
     },
     "metadata": {},
     "output_type": "display_data"
    },
    {
     "name": "stdout",
     "output_type": "stream",
     "text": [
      "Parameters\n"
     ]
    },
    {
     "data": {
      "application/vnd.jupyter.widget-view+json": {
       "model_id": "069e54de73064516a12ca990ad8efee9",
       "version_major": 2,
       "version_minor": 0
      },
      "text/plain": [
       "HBox(children=(VBox(children=(FloatSlider(value=0.0, description='w1', max=2.0, min=-2.0, step=0.25), FloatSli…"
      ]
     },
     "metadata": {},
     "output_type": "display_data"
    },
    {
     "data": {
      "application/vnd.jupyter.widget-view+json": {
       "model_id": "d45a300c728b4bd8829a8a1d99608db7",
       "version_major": 2,
       "version_minor": 0
      },
      "text/plain": [
       "Output()"
      ]
     },
     "execution_count": 28,
     "metadata": {},
     "output_type": "execute_result"
    }
   ],
   "source": [
    "param_range = np.arange(-2, 2.25, 0.25)\n",
    "gtparams = {\n",
    "    'w1': choice(0.5),\n",
    "    'w2': choice(0.5),\n",
    "    'w3': choice(1),\n",
    "    'b': choice(1)\n",
    "}\n",
    "\n",
    "def polynomial_model(params, x):\n",
    "    return params['w1'] * x + params['w2'] * x**2 + params['w3'] * x**3  + params.get('b', 0)\n",
    "\n",
    "dataset = make_dataset(gtparams, polynomial_model, eps=0.75)\n",
    "params = {k: 0.0 for k, v in gtparams.items()}\n",
    "\n",
    "plotter = Plotter(params, polynomial_model, l2_loss, dataset, Output())\n",
    "\n",
    "format_buttons(plotter)\n",
    "plotter.display()\n",
    "plotter.output"
   ]
  }
 ],
 "metadata": {
  "kernelspec": {
   "display_name": "cellot",
   "language": "python",
   "name": "cellot"
  },
  "language_info": {
   "codemirror_mode": {
    "name": "ipython",
    "version": 3
   },
   "file_extension": ".py",
   "mimetype": "text/x-python",
   "name": "python",
   "nbconvert_exporter": "python",
   "pygments_lexer": "ipython3",
   "version": "3.8.5"
  }
 },
 "nbformat": 4,
 "nbformat_minor": 5
}
