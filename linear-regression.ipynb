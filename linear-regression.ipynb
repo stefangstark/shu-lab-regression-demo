{
 "cells": [
  {
   "cell_type": "code",
   "execution_count": 1,
   "id": "5aad7f7d",
   "metadata": {
    "ExecuteTime": {
     "end_time": "2023-10-24T15:08:43.311471Z",
     "start_time": "2023-10-24T15:08:42.217732Z"
    }
   },
   "outputs": [],
   "source": [
    "import numpy as np\n",
    "import jax.numpy as jnp\n",
    "\n",
    "from ipywidgets import HBox, VBox, Output\n",
    "from utils import Plotter, Dataset, make_dataset"
   ]
  },
  {
   "cell_type": "code",
   "execution_count": 2,
   "id": "762e57bb",
   "metadata": {
    "ExecuteTime": {
     "end_time": "2023-10-24T15:08:43.322316Z",
     "start_time": "2023-10-24T15:08:43.318060Z"
    }
   },
   "outputs": [],
   "source": [
    "def format_buttons(plotter):\n",
    "    display(VBox(plotter.register_title_cards()))\n",
    "\n",
    "    display(HBox(plotter.register_batch_size_buttons()))\n",
    "    print('Parameters')\n",
    "    display(HBox([\n",
    "        VBox(list(plotter.register_parameters())),\n",
    "        VBox([plotter.register_parameter_freezer()])\n",
    "    ]))\n",
    "\n",
    "\n",
    "def choice(v):\n",
    "    assert v > 0\n",
    "    assert v <= 2\n",
    "\n",
    "    param_range = np.arange(-v, v+0.25, 0.25)\n",
    "    return np.random.choice(param_range)\n",
    "\n",
    "def l2_loss(params, forward, x, y):\n",
    "    err = forward(params, x) - y\n",
    "    return jnp.mean(jnp.square(err))"
   ]
  },
  {
   "cell_type": "markdown",
   "id": "c921ef42",
   "metadata": {},
   "source": [
    "# $y \\approx \\color{#4385BE}{w} \\cdot \\color{#DA702C}{x} $"
   ]
  },
  {
   "cell_type": "code",
   "execution_count": 3,
   "id": "c1ced314",
   "metadata": {
    "ExecuteTime": {
     "end_time": "2023-10-24T15:08:44.197585Z",
     "start_time": "2023-10-24T15:08:43.902068Z"
    }
   },
   "outputs": [
    {
     "name": "stderr",
     "output_type": "stream",
     "text": [
      "WARNING:absl:No GPU/TPU found, falling back to CPU. (Set TF_CPP_MIN_LOG_LEVEL=0 and rerun for more info.)\n"
     ]
    },
    {
     "data": {
      "application/vnd.jupyter.widget-view+json": {
       "model_id": "d1556343e5e24143b500a70c9655501e",
       "version_major": 2,
       "version_minor": 0
      },
      "text/plain": [
       "VBox(children=(Dropdown(description='Plot:', options=('Full dataset', 'Subsampled dataset', 'Ground truth'), v…"
      ]
     },
     "metadata": {},
     "output_type": "display_data"
    },
    {
     "data": {
      "application/vnd.jupyter.widget-view+json": {
       "model_id": "94ab153e968449498e8a716381800363",
       "version_major": 2,
       "version_minor": 0
      },
      "text/plain": [
       "HBox(children=(Button(description='Resample', style=ButtonStyle()), IntSlider(value=5, description='Batch size…"
      ]
     },
     "metadata": {},
     "output_type": "display_data"
    },
    {
     "name": "stdout",
     "output_type": "stream",
     "text": [
      "Parameters\n"
     ]
    },
    {
     "data": {
      "application/vnd.jupyter.widget-view+json": {
       "model_id": "160042c4508f4f9d81857ba3bfa65d0f",
       "version_major": 2,
       "version_minor": 0
      },
      "text/plain": [
       "HBox(children=(VBox(children=(FloatSlider(value=0.0, description='w', max=2.0, min=-2.0, step=0.25),)), VBox(c…"
      ]
     },
     "metadata": {},
     "output_type": "display_data"
    },
    {
     "data": {
      "application/vnd.jupyter.widget-view+json": {
       "model_id": "eeb6eec5555940b28ddf5237f74f1fdd",
       "version_major": 2,
       "version_minor": 0
      },
      "text/plain": [
       "Output()"
      ]
     },
     "execution_count": 3,
     "metadata": {},
     "output_type": "execute_result"
    }
   ],
   "source": [
    "gtparams = {\n",
    "    'w': choice(2)\n",
    "}\n",
    "\n",
    "def linear_model(params, x):\n",
    "    return x * params['w'] + params.get('b', 0)\n",
    "\n",
    "dataset = make_dataset(gtparams, linear_model)\n",
    "params = {k: 0.0 for k, v in gtparams.items()}\n",
    "\n",
    "plotter = Plotter(params, linear_model, l2_loss, dataset, Output())\n",
    "\n",
    "format_buttons(plotter)\n",
    "plotter.display()\n",
    "plotter.output"
   ]
  },
  {
   "cell_type": "markdown",
   "id": "53a4105f",
   "metadata": {},
   "source": [
    "# $y \\approx \\color{#4385BE}{w} \\cdot x + \\color{#4385BE}{b}$"
   ]
  },
  {
   "cell_type": "code",
   "execution_count": 10,
   "id": "61cbb60f",
   "metadata": {
    "ExecuteTime": {
     "end_time": "2023-10-24T15:22:58.044132Z",
     "start_time": "2023-10-24T15:22:57.870925Z"
    }
   },
   "outputs": [
    {
     "data": {
      "application/vnd.jupyter.widget-view+json": {
       "model_id": "4532a6cc79ac426197cccfd7a692bc63",
       "version_major": 2,
       "version_minor": 0
      },
      "text/plain": [
       "VBox(children=(Dropdown(description='Plot:', options=('Full dataset', 'Subsampled dataset', 'Ground truth'), v…"
      ]
     },
     "metadata": {},
     "output_type": "display_data"
    },
    {
     "data": {
      "application/vnd.jupyter.widget-view+json": {
       "model_id": "27d5e04785354d7eb7b02d5e9de0b315",
       "version_major": 2,
       "version_minor": 0
      },
      "text/plain": [
       "HBox(children=(Button(description='Resample', style=ButtonStyle()), IntSlider(value=5, description='Batch size…"
      ]
     },
     "metadata": {},
     "output_type": "display_data"
    },
    {
     "name": "stdout",
     "output_type": "stream",
     "text": [
      "Parameters\n"
     ]
    },
    {
     "data": {
      "application/vnd.jupyter.widget-view+json": {
       "model_id": "70fe0e605fe2463e812beed04551a6b9",
       "version_major": 2,
       "version_minor": 0
      },
      "text/plain": [
       "HBox(children=(VBox(children=(FloatSlider(value=0.0, description='w', max=2.0, min=-2.0, step=0.25), FloatSlid…"
      ]
     },
     "metadata": {},
     "output_type": "display_data"
    },
    {
     "data": {
      "application/vnd.jupyter.widget-view+json": {
       "model_id": "35dc12d046ff41ceb4196ac13a0c6350",
       "version_major": 2,
       "version_minor": 0
      },
      "text/plain": [
       "Output()"
      ]
     },
     "execution_count": 10,
     "metadata": {},
     "output_type": "execute_result"
    }
   ],
   "source": [
    "gtparams = {\n",
    "    'w': choice(2), 'b': choice(2)\n",
    "}\n",
    "\n",
    "dataset = make_dataset(gtparams, linear_model, eps=1.5)\n",
    "params = {k: 0.0 for k, v in gtparams.items()}\n",
    "\n",
    "plotter = Plotter(params, linear_model, l2_loss, dataset, Output())\n",
    "\n",
    "format_buttons(plotter)\n",
    "plotter.display()\n",
    "plotter.output"
   ]
  },
  {
   "cell_type": "markdown",
   "id": "114a9f4f",
   "metadata": {},
   "source": [
    "\n",
    "$$ \n",
    "\\begin{align}\n",
    "\\ell^2_2(w; \\textbf{y}, \\textbf{x}) & = ||\\textbf{y}- w\\cdot \\textbf{x}||^2 \\\\\n",
    "& = (\\textbf{y} - w  \\cdot \\textbf{x})^T (\\textbf{y} - w \\cdot \\textbf{x}) \\\\\n",
    "& = w ^2 \\textbf{x}^T\\textbf{x} - 2w  \\textbf{x}^T\\textbf{y} + \\textbf{y}^T\\textbf{y} \\\\\n",
    "& = a\\color{#4385BE}{w} ^2 + 2b\\color{#4385BE}{w} + c\n",
    "\\end{align}\n",
    "$$"
   ]
  },
  {
   "cell_type": "code",
   "execution_count": 6,
   "id": "cd186209",
   "metadata": {
    "ExecuteTime": {
     "end_time": "2023-10-24T14:40:31.775858Z",
     "start_time": "2023-10-24T14:40:31.655295Z"
    }
   },
   "outputs": [
    {
     "data": {
      "image/png": "[encoded data removed]",
      "text/plain": [
       "<Figure size 432x288 with 1 Axes>"
      ]
     },
     "metadata": {
      "needs_background": "light"
     },
     "output_type": "display_data"
    }
   ],
   "source": [
    "import matplotlib.pyplot as plt\n",
    "tw = 1; lx, ux = tw - 2, tw + 2\n",
    "xx = np.linspace(lx, ux, 100)\n",
    "\n",
    "plt.plot(xx, (xx - tw)**2)\n",
    "plt.xlabel('w'); plt.ylabel('loss')\n",
    "plt.show()"
   ]
  },
  {
   "cell_type": "markdown",
   "id": "ed4a0855",
   "metadata": {},
   "source": [
    "# $y \\approx \\color{#4385BE}{w_3} \\cdot \\color{#DA702C}{x^3} + \\color{#4385BE}{w_2} \\cdot \\color{#DA702C}{x^2} + \\color{#4385BE}{w_1} \\cdot \\color{#DA702C}{x} + \\color{#4385BE}{w_0}$"
   ]
  },
  {
   "cell_type": "code",
   "execution_count": 12,
   "id": "136ceaaa",
   "metadata": {
    "ExecuteTime": {
     "end_time": "2023-10-24T15:25:38.038190Z",
     "start_time": "2023-10-24T15:25:37.782544Z"
    }
   },
   "outputs": [
    {
     "data": {
      "application/vnd.jupyter.widget-view+json": {
       "model_id": "022901f0ffc444e4ba5f550f72a9c98c",
       "version_major": 2,
       "version_minor": 0
      },
      "text/plain": [
       "VBox(children=(Dropdown(description='Plot:', options=('Full dataset', 'Subsampled dataset', 'Ground truth'), v…"
      ]
     },
     "metadata": {},
     "output_type": "display_data"
    },
    {
     "data": {
      "application/vnd.jupyter.widget-view+json": {
       "model_id": "137c7c9dce614f528759bf399100e5ec",
       "version_major": 2,
       "version_minor": 0
      },
      "text/plain": [
       "HBox(children=(Button(description='Resample', style=ButtonStyle()), IntSlider(value=5, description='Batch size…"
      ]
     },
     "metadata": {},
     "output_type": "display_data"
    },
    {
     "name": "stdout",
     "output_type": "stream",
     "text": [
      "Parameters\n"
     ]
    },
    {
     "data": {
      "application/vnd.jupyter.widget-view+json": {
       "model_id": "24917f713fb846fabbf3bb6a34468ca5",
       "version_major": 2,
       "version_minor": 0
      },
      "text/plain": [
       "HBox(children=(VBox(children=(FloatSlider(value=0.0, description='w0', max=2.0, min=-2.0, step=0.25), FloatSli…"
      ]
     },
     "metadata": {},
     "output_type": "display_data"
    },
    {
     "data": {
      "application/vnd.jupyter.widget-view+json": {
       "model_id": "5bb278b20d8141a5a2358bb525b6192e",
       "version_major": 2,
       "version_minor": 0
      },
      "text/plain": [
       "Output()"
      ]
     },
     "execution_count": 12,
     "metadata": {},
     "output_type": "execute_result"
    }
   ],
   "source": [
    "gtparams = {\n",
    "    'w0': choice(2),\n",
    "    'w1': choice(2),\n",
    "    'w2': choice(2),\n",
    "    'w3': choice(2)\n",
    "}\n",
    "\n",
    "def polynomial_model(params, x):\n",
    "    return \\\n",
    "        1 / 3 * params['w3'] * x**3 \\\n",
    "        + 1/ 2 * params['w2'] * x**2 \\\n",
    "        + params['w1'] * x \\\n",
    "        + params.get('w0', 0)\n",
    "\n",
    "dataset = make_dataset(gtparams, polynomial_model, n=1000, eps=1)\n",
    "params = {k: 0.0 for k, v in gtparams.items()}\n",
    "\n",
    "plotter = Plotter(params, polynomial_model, l2_loss, dataset, Output())\n",
    "\n",
    "format_buttons(plotter)\n",
    "plotter.display()\n",
    "plotter.output"
   ]
  },
  {
   "cell_type": "markdown",
   "id": "b179c843",
   "metadata": {},
   "source": [
    "# Learning feature representations with deep learning\n",
    "\n",
    "$$\n",
    "\\begin{align}\n",
    "y &= f(x; w, \\theta) \\\\\n",
    "  &= \\color{#4385BE}{w_1} \\cdot \\color{#DA702C}{z_1(}x; \\color{#4385BE}{\\theta}\\color{#DA702C}{)} + \\color{#4385BE}{w_2} \\cdot \\color{#DA702C}{z_2(}x; \\color{#4385BE}{\\theta} \\color{#DA702C}{)} + \\ldots\n",
    "\\end{align}\n",
    "$$"
   ]
  }
 ],
 "metadata": {
  "kernelspec": {
   "display_name": "cellot",
   "language": "python",
   "name": "cellot"
  },
  "language_info": {
   "codemirror_mode": {
    "name": "ipython",
    "version": 3
   },
   "file_extension": ".py",
   "mimetype": "text/x-python",
   "name": "python",
   "nbconvert_exporter": "python",
   "pygments_lexer": "ipython3",
   "version": "3.8.5"
  }
 },
 "nbformat": 4,
 "nbformat_minor": 5
}
